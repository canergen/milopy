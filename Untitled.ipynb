{
 "cells": [
  {
   "cell_type": "markdown",
   "id": "effective-gambling",
   "metadata": {},
   "source": [
    "## Write python API for Milo"
   ]
  },
  {
   "cell_type": "code",
   "execution_count": 1,
   "id": "binding-proposition",
   "metadata": {},
   "outputs": [],
   "source": [
    "import scanpy as sc \n",
    "import pandas as pd"
   ]
  },
  {
   "cell_type": "code",
   "execution_count": 2,
   "id": "scheduled-ticket",
   "metadata": {},
   "outputs": [],
   "source": [
    "import anndata2ri\n",
    "import rpy2.rinterface_lib.callbacks\n",
    "import logging"
   ]
  },
  {
   "cell_type": "code",
   "execution_count": 3,
   "id": "freelance-tournament",
   "metadata": {},
   "outputs": [],
   "source": [
    "# Ignore R warning messages\n",
    "#Note: this can be commented out to get more verbose R output\n",
    "rpy2.rinterface_lib.callbacks.logger.setLevel(logging.ERROR)"
   ]
  },
  {
   "cell_type": "code",
   "execution_count": 4,
   "id": "imperial-judges",
   "metadata": {},
   "outputs": [],
   "source": [
    "anndata2ri.activate()"
   ]
  },
  {
   "cell_type": "code",
   "execution_count": 5,
   "id": "structural-accessory",
   "metadata": {},
   "outputs": [],
   "source": [
    "%load_ext rpy2.ipython"
   ]
  },
  {
   "cell_type": "markdown",
   "id": "chubby-treasury",
   "metadata": {},
   "source": [
    "## Load data"
   ]
  },
  {
   "cell_type": "markdown",
   "id": "genuine-client",
   "metadata": {},
   "source": [
    "From benchmarking data"
   ]
  },
  {
   "cell_type": "code",
   "execution_count": 6,
   "id": "polished-blair",
   "metadata": {},
   "outputs": [],
   "source": [
    "dim_red = \"/home/jovyan/data/milo_benchmark/synthetic_data/benchmark_embryo_pop_Mesenchyme_enr0.9_seed43_batchEffect0.pca.csv\"\n",
    "coldata = \"/home/jovyan/data/milo_benchmark/synthetic_data/benchmark_embryo_pop_Mesenchyme_enr0.9_seed43.coldata.csv\""
   ]
  },
  {
   "cell_type": "code",
   "execution_count": 9,
   "id": "foster-litigation",
   "metadata": {},
   "outputs": [],
   "source": [
    "X_pca = pd.read_csv(dim_red, index_col=0)\n",
    "obs = pd.read_csv(coldata, index_col=0)"
   ]
  },
  {
   "cell_type": "code",
   "execution_count": 13,
   "id": "confident-spain",
   "metadata": {},
   "outputs": [],
   "source": [
    "import anndata\n",
    "adata = anndata.AnnData(obs=obs)\n",
    "adata.obsm[\"X_pca\"]  = X_pca"
   ]
  },
  {
   "cell_type": "code",
   "execution_count": null,
   "id": "finite-governor",
   "metadata": {},
   "outputs": [],
   "source": [
    "adata"
   ]
  }
 ],
 "metadata": {
  "kernelspec": {
   "display_name": "emma_env",
   "language": "python",
   "name": "emma_env"
  },
  "language_info": {
   "codemirror_mode": {
    "name": "ipython",
    "version": 3
   },
   "file_extension": ".py",
   "mimetype": "text/x-python",
   "name": "python",
   "nbconvert_exporter": "python",
   "pygments_lexer": "ipython3",
   "version": "3.7.8"
  }
 },
 "nbformat": 4,
 "nbformat_minor": 5
}
